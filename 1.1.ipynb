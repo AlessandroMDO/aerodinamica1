{
 "cells": [
  {
   "cell_type": "markdown",
   "metadata": {},
   "source": [
    "### Questão 1.1"
   ]
  },
  {
   "cell_type": "code",
   "execution_count": 14,
   "metadata": {},
   "outputs": [],
   "source": [
    "import numpy as np\n",
    "import matplotlib.pyplot as plt\n",
    "import seaborn as sns\n",
    "from sympy.solvers import solve\n",
    "from sympy import Symbol, diff, Piecewise\n",
    "import sympy"
   ]
  },
  {
   "cell_type": "code",
   "execution_count": 15,
   "metadata": {},
   "outputs": [],
   "source": [
    "e = 0.02\n",
    "x = Symbol('x')\n",
    "c = Symbol('c')\n",
    "q = Symbol('q') ## q serve como (x/c)\n",
    "theta = Symbol('theta')\n",
    "\n",
    "x1_4 =0 ; x2_4 =.225  ; x3_4=1 ; ##dominio naca 4\n",
    "x1_5 =0 ; x2_5 =.2025 ; x3_5=1 ##dominio naca 5\n",
    "x_flap=0.75"
   ]
  },
  {
   "cell_type": "code",
   "execution_count": 16,
   "metadata": {},
   "outputs": [],
   "source": [
    "chord_4 = Piecewise( (e*(1-16*((q-1/4))**2),(q>=x1_4) & (q<=x2_4)), (e*(1-(16/9)*((q-1/4))**2),(q >= x2_4) & (q <=x3_4)))\n",
    "chord_5 = Piecewise((2.6595*((q)**3 - 0.6075*(q)**2 + 0.1147*(q)), (q >= x1_5) & (q <= x2_5)),(0.02208*(1-q), (q >= x2_5) & (q <= x3_5)))"
   ]
  },
  {
   "cell_type": "code",
   "execution_count": 17,
   "metadata": {},
   "outputs": [],
   "source": [
    "devchord_4 = chord_4.diff(q).subs(q,x/c)\n",
    "devchord_5 = chord_5.diff(q).subs(q,x/c)"
   ]
  },
  {
   "cell_type": "code",
   "execution_count": 18,
   "metadata": {},
   "outputs": [],
   "source": [
    "transform = (c/2)*(1-sympy.cos(theta)) #transformador de x para thetha\n",
    "\n",
    "devchordtheta_4=devchord_4.subs(x,transform) #aplicação da transformação\n",
    "devchordtheta_5=devchord_5.subs(x,transform)            \n",
    "\n",
    "x1_4_transform = sympy.acos(1-2*x1_4);x2_4_transform = sympy.acos(1-2*x2_4);x3_4_transform = sympy.acos(1-2*x3_4);\n",
    "x1_5_transform = sympy.acos(1-2*x1_5);x2_5_transform = sympy.acos(1-2*x2_5);x3_5_transform = sympy.acos(1-2*x3_5);\n",
    "\n",
    "devchordtheta_4.subs(x1_4,x1_4_transform).subs(x2_4,x2_4_transform).subs(x3_4,x3_4_transform);\n",
    "devchordtheta_5.subs(x1_5,x1_5_transform).subs(x2_5,x2_5_transform).subs(x3_5,x3_5_transform);"
   ]
  },
  {
   "cell_type": "markdown",
   "metadata": {},
   "source": [
    "##### **a)** $A_0$ é definido como $A_0 = \\alpha -\\frac{1}{\\pi} \\int_{0}^{\\pi} \\frac{dz}{dz} d\\theta$ . Como se quer o $\\alpha$ que zere $A_0$, basta igualar a expressão à zero e isolar $\\alpha$."
   ]
  },
  {
   "cell_type": "code",
   "execution_count": 19,
   "metadata": {},
   "outputs": [
    {
     "name": "stdout",
     "output_type": "stream",
     "text": [
      "O ângulo de ataque inicial para o NACA 4 dígitos é: 0.7501º\n",
      "O ângulo de ataque inicial para o NACA 5 dígitos é: 1.6419º\n"
     ]
    }
   ],
   "source": [
    "alphazero_4=Symbol('alphazero_4')\n",
    "alphazero_5=Symbol('alphazero_5')\n",
    "\n",
    "equation_4 = alphazero_4 + (-1/sympy.pi)*sympy.integrate(devchordtheta_4,(theta,0,sympy.pi))\n",
    "equation_5 = alphazero_5 + (-1/sympy.pi)*sympy.integrate(devchordtheta_5,(theta,0,sympy.pi))\n",
    "\n",
    "alphazero_4_rad=solve(equation_4,alphazero_4)\n",
    "alphazero_5_rad=solve(equation_5,alphazero_5)\n",
    "\n",
    "alphazero_4_degree=alphazero_4_rad[0] * 180/sympy.pi\n",
    "alphazero_5_degree=alphazero_5_rad[0] * 180/sympy.pi\n",
    "\n",
    "print(f'O ângulo de ataque inicial para o NACA 4 dígitos é: {round(alphazero_4_degree,4)}º')\n",
    "print(f'O ângulo de ataque inicial para o NACA 5 dígitos é: {round(alphazero_5_degree,4)}º')"
   ]
  },
  {
   "cell_type": "markdown",
   "metadata": {},
   "source": [
    "##### **b)** A equação pra ângulo de ataque onde ocorre zero-lift é dada por $\\alpha_{L_0} = - \\frac{1}{\\pi} \\int_{0}^{\\pi} \\frac{dz}{dx} (cos \\theta -1) d\\theta$"
   ]
  },
  {
   "cell_type": "code",
   "execution_count": 20,
   "metadata": {},
   "outputs": [
    {
     "name": "stdout",
     "output_type": "stream",
     "text": [
      "O ângulo de ataque zero-lift para o NACA 4 dígitos é: -1.8575º\n",
      "O ângulo de ataque zero-lift para o NACA 5 dígitos é: -1.0935º\n"
     ]
    }
   ],
   "source": [
    "alphaL0_4_rad = (-1/sympy.pi)*sympy.integrate(devchordtheta_4*(sympy.cos(theta)-1),(theta,0,sympy.pi))\n",
    "alphaL0_5_rad = (-1/sympy.pi)*sympy.integrate(devchordtheta_5*(sympy.cos(theta)-1),(theta,0,sympy.pi))\n",
    "\n",
    "alphaL0_4_degree=alphaL0_4_rad * 180/sympy.pi\n",
    "alphaL0_5_degree=alphaL0_5_rad * 180/sympy.pi\n",
    "\n",
    "print(f'O ângulo de ataque zero-lift para o NACA 4 dígitos é: {round(alphaL0_4_degree,4)}º')\n",
    "print(f'O ângulo de ataque zero-lift para o NACA 5 dígitos é: {round(alphaL0_5_degree,4)}º')"
   ]
  },
  {
   "cell_type": "markdown",
   "metadata": {},
   "source": [
    "##### **c)** O coeficiente de sustentação para um $\\alpha$ qualquer é calculado como $C_l = 2 \\pi (\\alpha - \\alpha_{L_0})$"
   ]
  },
  {
   "cell_type": "code",
   "execution_count": 21,
   "metadata": {},
   "outputs": [
    {
     "name": "stdout",
     "output_type": "stream",
     "text": [
      "O CL para o ângulo de ataque inicial para o NACA 4 dígitos é: 0.2860\n",
      "O CL para o ângulo de ataque inicial para o NACA 5 dígitos é: 0.3000\n"
     ]
    }
   ],
   "source": [
    "cl_4 = 2*sympy.pi*(alphazero_4_rad[0]-alphaL0_4_rad)\n",
    "cl_5 = 2*sympy.pi*(alphazero_5_rad[0]-alphaL0_5_rad)\n",
    "\n",
    "print(f'O CL para o ângulo de ataque inicial para o NACA 4 dígitos é: {round(cl_4,4)}')\n",
    "print(f'O CL para o ângulo de ataque inicial para o NACA 5 dígitos é: {round(cl_5,4)}')"
   ]
  },
  {
   "cell_type": "markdown",
   "metadata": {},
   "source": [
    "##### **d)** Para um aerofólio fino, o centro aerodinâmico e o centro de pressão estão a 0.25% da corda. Logo, calcular o coeficiente de momento em relação ao centro aerodinâmico é o mesmo que calcular em relação à 1/4 da corda.\n",
    "\n",
    "##### O coeficiente de momento a 1/4 da corda é definido como: $C_m,_{c/4} = \\frac{\\pi}{4}(A2-A1)$. Ou seja, é necessário calcular $A2$ e $A1$, onde eles são definidos por $A_n = \\frac{2}{\\pi} \\int_{0}^{\\pi} \\frac{dz}{dx} cos(n \\theta)d\\theta $"
   ]
  },
  {
   "cell_type": "code",
   "execution_count": 22,
   "metadata": {},
   "outputs": [
    {
     "name": "stdout",
     "output_type": "stream",
     "text": [
      "O CM no centro aerodinâmico para o NACA 4 dígitos é: -0.0406\n",
      "O CM no centro aerodinâmico para o NACA 5 dígitos é: -0.0128\n"
     ]
    }
   ],
   "source": [
    "A_1_4 = 2/sympy.pi * sympy.integrate(devchordtheta_4*sympy.cos(1*theta),(theta,0,sympy.pi))\n",
    "A_2_4 = 2/sympy.pi * sympy.integrate(devchordtheta_4*sympy.cos(2*theta),(theta,0,sympy.pi))\n",
    "A_1_5 = 2/sympy.pi * sympy.integrate(devchordtheta_5*sympy.cos(1*theta),(theta,0,sympy.pi))\n",
    "A_2_5 = 2/sympy.pi * sympy.integrate(devchordtheta_5*sympy.cos(2*theta),(theta,0,sympy.pi))\n",
    "\n",
    "cm_4 = (sympy.pi/4) * (A_2_4-A_1_4)\n",
    "cm_5 = (sympy.pi/4) * (A_2_5-A_1_5)\n",
    "\n",
    "print(f'O CM no centro aerodinâmico para o NACA 4 dígitos é: {round(cm_4,4)}')\n",
    "print(f'O CM no centro aerodinâmico para o NACA 5 dígitos é: {round(cm_5,4)}')\n"
   ]
  },
  {
   "cell_type": "code",
   "execution_count": 23,
   "metadata": {},
   "outputs": [
    {
     "data": {
      "image/png": "[encoded data removed]",
      "text/plain": [
       "<Figure size 720x108 with 1 Axes>"
      ]
     },
     "metadata": {},
     "output_type": "display_data"
    },
    {
     "data": {
      "image/png": "[encoded data removed]",
      "text/plain": [
       "<Figure size 720x108 with 1 Axes>"
      ]
     },
     "metadata": {},
     "output_type": "display_data"
    }
   ],
   "source": [
    "## PLOT DOS AEROFÓLIOS\n",
    "\n",
    "sns.set_style(\"whitegrid\")\n",
    "sns.set_palette(\"deep\")\n",
    "\n",
    "##NACA 4 DÍGITOS\n",
    "naca_4 = plt.figure(figsize=(10,1.5))\n",
    "chord_complete_4 = []\n",
    "\n",
    "for i in np.arange(0,1,0.01):\n",
    "    total_chord = chord_4.subs(q,i)\n",
    "    chord_complete_4.append(total_chord)\n",
    "    \n",
    "plt.plot(np.linspace(0,1,100),chord_complete_4)\n",
    "plt.grid(True)\n",
    "plt.title('NACA 4 DÍGITOS')\n",
    "plt.tight_layout()\n",
    "#plt.savefig('naca4.eps')\n",
    "plt.show()\n",
    "\n",
    "\n",
    "##NACA 5 DÍGITOS\n",
    "naca_5=plt.figure(figsize=(10,1.5))\n",
    "chord_complete_5 = []\n",
    "\n",
    "for i in np.arange(0,1,0.01):\n",
    "    total_chord = chord_5.subs(q,i)\n",
    "    chord_complete_5.append(total_chord)\n",
    "    \n",
    "plt.plot(np.linspace(0,1,100),chord_complete_5)\n",
    "plt.grid(True)\n",
    "plt.title('NACA 5 DÍGITOS')\n",
    "plt.tight_layout()\n",
    "#plt.savefig('naca5.eps')\n",
    "plt.show()"
   ]
  }
 ],
 "metadata": {
  "kernelspec": {
   "display_name": "Python 3",
   "language": "python",
   "name": "python3"
  },
  "language_info": {
   "codemirror_mode": {
    "name": "ipython",
    "version": 3
   },
   "file_extension": ".py",
   "mimetype": "text/x-python",
   "name": "python",
   "nbconvert_exporter": "python",
   "pygments_lexer": "ipython3",
   "version": "3.7.6"
  }
 },
 "nbformat": 4,
 "nbformat_minor": 4
}
